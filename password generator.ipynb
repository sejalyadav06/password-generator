{
 "cells": [
  {
   "cell_type": "code",
   "execution_count": null,
   "id": "a35225c7",
   "metadata": {},
   "outputs": [],
   "source": [
    "import random\n",
    "import string\n",
    "\n",
    "def generate_password(length):\n",
    "    # Define the character set for the password\n",
    "    characters = string.ascii_letters + string.digits + string.punctuation\n",
    "\n",
    "    # Generate the password by randomly selecting characters from the set\n",
    "    password = ''.join(random.choice(characters) for _ in range(length))\n",
    "\n",
    "    return password\n",
    "\n",
    "def main():\n",
    "    print(\"Welcome to the Password Generator!\")\n",
    "    length = int(input(\"Enter the desired length of the password: \"))\n",
    "\n",
    "    if length <= 0:\n",
    "        print(\"Please enter a valid password length.\")\n",
    "        return\n",
    "\n",
    "    password = generate_password(length)\n",
    "    print(\"Generated Password:\", password)\n",
    "\n",
    "if __name__ == \"__main__\":\n",
    "    main()"
   ]
  }
 ],
 "metadata": {
  "kernelspec": {
   "display_name": "Python 3 (ipykernel)",
   "language": "python",
   "name": "python3"
  },
  "language_info": {
   "codemirror_mode": {
    "name": "ipython",
    "version": 3
   },
   "file_extension": ".py",
   "mimetype": "text/x-python",
   "name": "python",
   "nbconvert_exporter": "python",
   "pygments_lexer": "ipython3",
   "version": "3.10.9"
  }
 },
 "nbformat": 4,
 "nbformat_minor": 5
}
